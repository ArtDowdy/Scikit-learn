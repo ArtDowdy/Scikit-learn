{
 "cells": [
  {
   "cell_type": "markdown",
   "id": "7dcdb54e",
   "metadata": {},
   "source": [
    "# Problem 1: \n",
    "In the following examples, identify the false positives and false negatives. Also explain from a business point of view, which error we would like to minimize. You may choose to justify your answer.\n",
    "        \n",
    "1. A cell phone company wants to identify customers that will churn and run a marketing campaign to prevent them from churning Churning means a customer will leave a company for another company. For example, I am currently an AT&T customer, but after my contract ends, I may swtich to T-mobile. This is called churning. Losing a customer will cost a lot of money to the cell phone company.\n",
    "\n",
    "2. A funding organisation receives 1000's of proposals for 5-year funding of $500,000. But the organization can fund only a few proposals. They want to identify the best possible proposals from the list of many proposals."
   ]
  },
  {
   "cell_type": "markdown",
   "id": "84b1e06a",
   "metadata": {},
   "source": [
    "# Answer"
   ]
  },
  {
   "cell_type": "markdown",
   "id": "28bc0a33-c6c7-4c2a-a192-76b6c90be0ab",
   "metadata": {},
   "source": [
    "1. In the first scenario, a cell phone company aims to identify customers likely to churn to target them with marketing efforts to retain their business. Here, a false positive would occur when a customer is predicted to churn but had no intention of leaving and this results in unnecessary marketing expenditures. A false negative happens when a customer who intends to leave is mistakenly identified as staying, leading to lost revenue and market share. From a business viewpoint, minimizing false negatives is critical, as retaining an existing customer is usually more cost-effective and beneficial than acquiring new customers. Hence, it's more important to minimize false negatives, since failing to identify customers who churn directly translates into lost revenue and reduced customer lifetime value.\n",
    "\n",
    "2. In the second scenario, a funding organization receives thousands of proposals requesting significant funding, but can only fund a few. In this case, a false positive would mean funding a low-quality proposal mistakenly identified as high-quality, thereby wasting substantial financial resources and potentially missing an opportunity to fund a genuinely impactful proposal. A false negative, on the other hand, would occur when a high-quality proposal is incorrectly rejected, meaning the organization misses out on potentially valuable research outcomes or innovations. From a business standpoint, minimizing false positives is more critical. Resources are finite and should be allocated to projects with the highest likelihood of success and impact. Funding suboptimal proposals would severely limit the organization's effectiveness and reduce the return on investment of their funds."
   ]
  },
  {
   "cell_type": "markdown",
   "id": "345a94ab",
   "metadata": {},
   "source": [
    "# Problem 2: \n",
    "We build a machine learning model to predict if an email is spam or not. The following table shows the confusion matrix of the model. Calculate the False positive rate, True positive rate for the matrix and interpret the results in the context of the problem.\n",
    "\n",
    "|     |  |Prediction| |\n",
    "|-----|--|----|------|\n",
    "|     |  | Spam| Not Spam |\n",
    "|Truth|Spam| 100   |  50  |\n",
    "|     |Not Spam |  150  | 700  |"
   ]
  },
  {
   "cell_type": "code",
   "execution_count": 3,
   "id": "6d95ee0c-9b6f-45d8-93e5-f6923dcb1387",
   "metadata": {},
   "outputs": [
    {
     "name": "stdout",
     "output_type": "stream",
     "text": [
      "False Positive Rate (FPR): 0.1765 (17.65%)\n",
      "True Positive Rate (TPR): 0.6667 (66.67%)\n"
     ]
    }
   ],
   "source": [
    "# Answer\n",
    "\n",
    "# Confusion matrix values\n",
    "TP, FN, FP, TN = 100, 50, 150, 700\n",
    "\n",
    "# Calculating FPR and TPR\n",
    "FPR = FP / (FP + TN)\n",
    "TPR = TP / (TP + FN)\n",
    "\n",
    "# Output results\n",
    "print(f\"False Positive Rate (FPR): {FPR:.4f} ({FPR*100:.2f}%)\")\n",
    "print(f\"True Positive Rate (TPR): {TPR:.4f} ({TPR*100:.2f}%)\")"
   ]
  },
  {
   "cell_type": "markdown",
   "id": "b8731b1b-f878-4a25-9fd9-94e64f082e7f",
   "metadata": {},
   "source": [
    "# Problem 2: Spam Classification Model Evaluation\n",
    "\n",
    "The confusion matrix provided above shows that the model correctly classified 100 spam emails but misclassified 50 spam emails as not spam. Additionally, it correctly classified 700 non-spam emails while incorrectly marking 150 non-spam emails as spam. To evaluate the model's performance, we calculate the FPR and TPR. The False Positive Rate represents the proportion of legitimate emails that were incorrectly classified as spam. It is calculated as the number of false positives divided by the total number of actual non-spam emails. Using the formula:\n",
    "\n",
    "$[\n",
    "FPR = \\frac{\\text{False Positives}}{\\text{False Positives} + \\text{True Negatives}} = \\frac{150}{150 + 700} = \\frac{150}{850} \\approx 0.1765 \\quad (17.65\\%)\n",
    "]$\n",
    "\n",
    "This result indicates that approximately 18% of non-spam emails were mistakenly classified as spam, which could lead to legitimate messages being incorrectly filtered into spam folders. This can be problematic in business and personal communication, as important emails may go unnoticed. The True Positive Rate measures the proportion of actual spam emails that the model correctly identified. It is calculated as the number of true positives divided by the total number of actual spam emails. Using the formula:\n",
    "\n",
    "$[\n",
    "TPR = \\frac{\\text{True Positives}}{\\text{True Positives} + \\text{False Negatives}} = \\frac{100}{100 + 50} = \\frac{100}{150} \\approx 0.6667 \\quad (66.67\\%)\n",
    "]$\n",
    "\n",
    "This result suggests that about 67% of actual spam emails were correctly classified as spam, meaning that one-third of spam emails still made it into the inbox and from a business perspective, both types of errors have different implications. A high False Positive Rate means that legitimate emails are wrongly identified as spam, potentially causing missed opportunities, communication failures, and dissatisfaction among users. On the other hand, a high False Negative Rate means that spam emails continue to appear in users' inboxes, which can lead to inconvenience, security risks, and phishing attempts. While both rates should be minimized, businesses typically prioritize reducing the False\n"
   ]
  },
  {
   "cell_type": "markdown",
   "id": "ac989f02",
   "metadata": {},
   "source": [
    "# Problem 3: Confusion matrix and the effect of thresholding\n"
   ]
  },
  {
   "cell_type": "markdown",
   "id": "d584e2e5",
   "metadata": {},
   "source": [
    "In this problem, you will fit a logistic regression model to the diabetes dataset (from the previous home work) and evaluate the effect of different threshold in the false positve rate and true positive rate. "
   ]
  },
  {
   "cell_type": "code",
   "execution_count": null,
   "id": "49757b34",
   "metadata": {},
   "outputs": [],
   "source": [
    "#Step 1: Import all the required libraries"
   ]
  },
  {
   "cell_type": "code",
   "execution_count": 11,
   "id": "b4e4fffe",
   "metadata": {},
   "outputs": [],
   "source": [
    "import numpy as np\n",
    "import pandas as pd\n",
    "import matplotlib.pyplot as plt\n",
    "from sklearn.model_selection import train_test_split\n",
    "from sklearn.preprocessing import StandardScaler\n",
    "from sklearn.linear_model import LogisticRegression\n",
    "from sklearn.metrics import roc_curve, auc"
   ]
  },
  {
   "cell_type": "code",
   "execution_count": null,
   "id": "361b3571",
   "metadata": {},
   "outputs": [],
   "source": [
    "# Step 2: Load the diabetes dataset and print the first 5 rows"
   ]
  },
  {
   "cell_type": "code",
   "execution_count": 20,
   "id": "bb89958b",
   "metadata": {
    "scrolled": true
   },
   "outputs": [
    {
     "name": "stdout",
     "output_type": "stream",
     "text": [
      "   Pregnancies  Glucose  BloodPressure  SkinThickness  Insulin   BMI  \\\n",
      "0            6      148             72             35        0  33.6   \n",
      "1            1       85             66             29        0  26.6   \n",
      "2            8      183             64              0        0  23.3   \n",
      "3            1       89             66             23       94  28.1   \n",
      "4            0      137             40             35      168  43.1   \n",
      "\n",
      "   DiabetesPedigreeFunction  Age  Outcome  \n",
      "0                     0.627   50        1  \n",
      "1                     0.351   31        0  \n",
      "2                     0.672   32        1  \n",
      "3                     0.167   21        0  \n",
      "4                     2.288   33        1  \n"
     ]
    }
   ],
   "source": [
    "file_path = \"diabetes.csv\"\n",
    "\n",
    "df = pd.read_csv(file_path)\n",
    "\n",
    "print(df.head())"
   ]
  },
  {
   "cell_type": "code",
   "execution_count": null,
   "id": "b31c9e2c",
   "metadata": {},
   "outputs": [],
   "source": [
    "# Step 3: Create the X and y variables of features and outcome respectively. \n",
    "# Use \"glucose\", \"BMI\" and \"Pregnancies\" as the features"
   ]
  },
  {
   "cell_type": "code",
   "execution_count": 22,
   "id": "ee794efc",
   "metadata": {},
   "outputs": [],
   "source": [
    "X = df[[\"Glucose\", \"BMI\", \"Pregnancies\"]]\n",
    "y = df[\"Outcome\"]"
   ]
  },
  {
   "cell_type": "code",
   "execution_count": null,
   "id": "4b24ae5a",
   "metadata": {},
   "outputs": [],
   "source": [
    "# Step 4: Create the logistic regression model (make sure to set penality = \"none\"). \n",
    "#Also create the Kfold cross validation object with 5 splits."
   ]
  },
  {
   "cell_type": "code",
   "execution_count": 26,
   "id": "97a37d1e",
   "metadata": {},
   "outputs": [],
   "source": [
    "from sklearn.linear_model import LogisticRegression\n",
    "from sklearn.model_selection import KFold\n",
    "\n",
    "model = LogisticRegression(penalty=\"none\", solver=\"lbfgs\", max_iter=1000)\n",
    "kf = KFold(n_splits=5, shuffle=True, random_state=42)"
   ]
  },
  {
   "cell_type": "code",
   "execution_count": null,
   "id": "fe1ede20",
   "metadata": {},
   "outputs": [],
   "source": [
    "# Step 5: Use cross_val_predict to compute the predicted probabilites \n",
    "#using the model and cross validation splits created in Step 4 and the features and outcome in Step 3"
   ]
  },
  {
   "cell_type": "code",
   "execution_count": 32,
   "id": "4c998bce",
   "metadata": {},
   "outputs": [],
   "source": [
    "from sklearn.linear_model import LogisticRegression\n",
    "from sklearn.model_selection import KFold, cross_val_predict\n",
    "\n",
    "model = LogisticRegression(penalty=None, solver=\"lbfgs\", max_iter=1000)\n",
    "kf = KFold(n_splits=5, shuffle=True, random_state=42)\n",
    "\n",
    "y_probs = cross_val_predict(model, X, y, cv=kf, method=\"predict_proba\")[:, 1]\n"
   ]
  },
  {
   "cell_type": "code",
   "execution_count": null,
   "id": "2aac195f",
   "metadata": {},
   "outputs": [],
   "source": [
    "# Step 6: Use a threshold of 0.2 to compute the class lables. \n",
    "#Make sure to use the second column of the predicted probability from Step 5."
   ]
  },
  {
   "cell_type": "code",
   "execution_count": 34,
   "id": "c1130b3e",
   "metadata": {},
   "outputs": [],
   "source": [
    "threshold = 0.2\n",
    "y_pred = (y_probs >= threshold).astype(int)"
   ]
  },
  {
   "cell_type": "code",
   "execution_count": null,
   "id": "28bd79b4",
   "metadata": {},
   "outputs": [],
   "source": [
    "# Step 7: Compute the confusion matrix and plot the confusion matrix."
   ]
  },
  {
   "cell_type": "code",
   "execution_count": 40,
   "id": "10614485",
   "metadata": {},
   "outputs": [
    {
     "data": {
      "image/png": "[encoded data removed]",
      "text/plain": [
       "<Figure size 600x500 with 2 Axes>"
      ]
     },
     "metadata": {},
     "output_type": "display_data"
    }
   ],
   "source": [
    "import matplotlib.pyplot as plt\n",
    "import seaborn as sns\n",
    "from sklearn.metrics import confusion_matrix\n",
    "\n",
    "cm = confusion_matrix(y, y_pred)\n",
    "\n",
    "plt.figure(figsize=(6, 5))\n",
    "sns.heatmap(cm, annot=True, fmt=\"d\", cmap=\"Blues\", xticklabels=[\"Not Diabetic\", \"Diabetic\"], yticklabels=[\"Not Diabetic\", \"Diabetic\"])\n",
    "plt.xlabel(\"Predicted Label\")\n",
    "plt.ylabel(\"True Label\")\n",
    "plt.title(\"Confusion Matrix\")\n",
    "plt.show()"
   ]
  },
  {
   "cell_type": "code",
   "execution_count": 48,
   "id": "85c1b428",
   "metadata": {},
   "outputs": [
    {
     "name": "stdout",
     "output_type": "stream",
     "text": [
      "False Positive Rate: 0.4560\n",
      "True Positive Rate: 0.9030\n",
      "Precision: 0.5149\n"
     ]
    }
   ],
   "source": [
    "#Step 8: The function below  computes the false positve rate, true positive rate and the precision\n",
    "# using the confusion matrix. Use it to compute these metrics for threhsold = 0.2\n",
    "\n",
    "\n",
    "def compute_metrics(cm):\n",
    "    TN, FP, FN, TP = cm.ravel()\n",
    "    FPR = FP / (FP + TN)\n",
    "    TPR = TP / (TP + FN)\n",
    "    Precision = TP / (TP + FP) if (TP + FP) > 0 else 0\n",
    "    return FPR, TPR, Precision\n",
    "\n",
    "FPR, TPR, Precision = compute_metrics(cm)\n",
    "print(f\"False Positive Rate: {FPR:.4f}\")\n",
    "print(f\"True Positive Rate: {TPR:.4f}\")\n",
    "print(f\"Precision: {Precision:.4f}\")"
   ]
  },
  {
   "cell_type": "code",
   "execution_count": 50,
   "id": "771427da",
   "metadata": {},
   "outputs": [
    {
     "name": "stdout",
     "output_type": "stream",
     "text": [
      "For threshold: 0.2\n",
      "False Positive Rate: 0.4560\n",
      "True Positive Rate: 0.9030\n",
      "Precision: 0.5149\n"
     ]
    }
   ],
   "source": [
    "# The following function computes the true positive rate, false positive rate and precision. \n",
    "# You can either use the function to compue tp and fp rates, or use the method we learned in class.\n",
    "#Input to the function:\n",
    "#    y_true = an array of true class labels\n",
    "#    pred_prob = an array of predicted probability of class 1\n",
    "#    threshold \n",
    "\n",
    "def fpr_tpr_pr(y_true, pred_prob, threshold):\n",
    "    y_pred_t1 = (pred_prob > threshold).astype(int)\n",
    "    cm = confusion_matrix(y_true, y_pred_t1)\n",
    "    TN, FP, FN, TP = cm.ravel()\n",
    "    FPR = FP / (FP + TN)\n",
    "    TPR = TP / (TP + FN)\n",
    "    Precision = TP / (TP + FP) if (TP + FP) > 0 else 0\n",
    "    print(f\"For threshold: {threshold}\")\n",
    "    print(f\"False Positive Rate: {FPR:.4f}\")\n",
    "    print(f\"True Positive Rate: {TPR:.4f}\")\n",
    "    print(f\"Precision: {Precision:.4f}\")\n",
    "\n",
    "fpr_tpr_pr(y, y_probs, 0.2)"
   ]
  },
  {
   "cell_type": "code",
   "execution_count": null,
   "id": "67a4b25d",
   "metadata": {},
   "outputs": [],
   "source": [
    "def fpr_tpr_pr(y_true, pred_prob, threshold):\n",
    "    y_pred_t1 = (pred_prob > threshold).astype(int)\n",
    "    cm = confusion_matrix(y_true, y_pred_t1)\n",
    "    TN, FP, FN, TP = cm.ravel()\n",
    "    FPR = FP / (FP + TN)\n",
    "    TPR = TP / (TP + FN)\n",
    "    Precision = TP / (TP + FP) if (TP + FP) > 0 else 0\n",
    "    print(f\"For threshold: {threshold}\")\n",
    "    print(f\"False Positive Rate: {FPR:.4f}\")\n",
    "    print(f\"True Positive Rate: {TPR:.4f}\")\n",
    "    print(f\"Precision: {Precision:.4f}\")\n",
    "\n",
    "fpr_tpr_pr(y, y_probs, 0.2)"
   ]
  },
  {
   "cell_type": "code",
   "execution_count": null,
   "id": "d1543792",
   "metadata": {},
   "outputs": [],
   "source": [
    "#Step 9: Now compute the fpr and tpr for a threshold of 0.1 and 0.05. "
   ]
  },
  {
   "cell_type": "code",
   "execution_count": 52,
   "id": "e46ddb8b",
   "metadata": {},
   "outputs": [
    {
     "name": "stdout",
     "output_type": "stream",
     "text": [
      "For threshold: 0.1\n",
      "False Positive Rate: 0.7440\n",
      "True Positive Rate: 0.9813\n",
      "Precision: 0.4142\n",
      "For threshold: 0.05\n",
      "False Positive Rate: 0.9220\n",
      "True Positive Rate: 0.9888\n",
      "Precision: 0.3650\n"
     ]
    }
   ],
   "source": [
    "fpr_tpr_pr(y, y_probs, 0.1)\n",
    "fpr_tpr_pr(y, y_probs, 0.05)"
   ]
  },
  {
   "cell_type": "code",
   "execution_count": null,
   "id": "587d0a3c",
   "metadata": {},
   "outputs": [],
   "source": [
    "# Step 10. Fill in the blanks below:\n",
    "\n",
    "#Threshold = 0.2, fpr = 0.456, tpr = 0.9029\n",
    "#Threshold = 0.1, fpr = 0.744, tpr = 0.9813\n",
    "#Threshold = 0.05, fpr = 0.922, tpr = 0.9888\n"
   ]
  },
  {
   "cell_type": "code",
   "execution_count": null,
   "id": "55017fe6",
   "metadata": {},
   "outputs": [],
   "source": [
    " #As a doctor, you want to make sure that the classifier is able to identify as many potential diabetic patients \n",
    "    #as possible, but at the same time not have too many false positives. \n",
    "    #Which threshold out of 0.05, 0.1,0.2,would you pick? Please justify your answer"
   ]
  },
  {
   "cell_type": "markdown",
   "id": "8e2e6e21-8a92-4cc3-8511-fd97198cd6f9",
   "metadata": {},
   "source": [
    "The best choice is threshold 0.1 because it correctly identifies 98% of diabetic patients while keeping false positives lower than the 0.05 threshold. A lower threshold (0.05) catches almost all diabetic cases but misclassifies too many non-diabetic patients, causing unnecessary concern. A higher threshold (0.2) reduces false positives but misses more actual diabetic cases. The 0.1 threshold strikes a good balance, ensuring most diabetic patients get identified while keeping false alarms at a more manageable level."
   ]
  },
  {
   "cell_type": "code",
   "execution_count": 54,
   "id": "c1445fe4",
   "metadata": {},
   "outputs": [
    {
     "name": "stdout",
     "output_type": "stream",
     "text": [
      "For threshold: 0.5\n",
      "False Positive Rate: 0.1220\n",
      "True Positive Rate: 0.5634\n",
      "Precision: 0.7123\n",
      "For threshold: 0.8\n",
      "False Positive Rate: 0.0220\n",
      "True Positive Rate: 0.2052\n",
      "Precision: 0.8333\n"
     ]
    }
   ],
   "source": [
    "# Step 11: Using the same function fpr_tpr_pr, calcuate the precision and recall for threshold = 0.5 and 0.8\n",
    "#  Hint : Recall is the same as True positive rate\n",
    "\n",
    "fpr_tpr_pr(y, y_probs, 0.5)\n",
    "fpr_tpr_pr(y, y_probs, 0.8)"
   ]
  },
  {
   "cell_type": "code",
   "execution_count": null,
   "id": "4d33277c",
   "metadata": {},
   "outputs": [],
   "source": [
    "# Fill in the following blanks:\n",
    "\n",
    "#Threshold = 0.1, precision = 0.4142, recall = 0.9813\n",
    "#Threshold = 0.5, precision = 0.7123, recall = 0.5634\n",
    "#Threshold = 0.8, precision = 0.8333, recall = 0.2052"
   ]
  },
  {
   "cell_type": "code",
   "execution_count": null,
   "id": "ec58635b",
   "metadata": {},
   "outputs": [],
   "source": [
    "#Step 12: As a pima indian, you want to make sure that if the classifer predicts that you have diabetes, \n",
    "    # the probability that you really have diabetes is high. You dont care about other metrics.\n",
    "    #Which threshold out of 0.1, 0.5, 0.8 would you pick? Please justify your answer"
   ]
  },
  {
   "cell_type": "markdown",
   "id": "fb8688f4-c492-4a0d-a07f-0f8abb4e035c",
   "metadata": {},
   "source": [
    "The best choice is threshold 0.8 because it has the highest precision (83%). This means that if the model says you have diabetes, there is an 83% chance that the prediction is accurate. A lower threshold like 0.1 has a much lower precision (41%), meaning many non-diabetic people would be incorrectly told they have diabetes. Choosing 0.8 gives you the most confidence that a positive result is truly correct."
   ]
  },
  {
   "cell_type": "code",
   "execution_count": null,
   "id": "5f2c8770",
   "metadata": {},
   "outputs": [],
   "source": [
    "# Do you notice how the threshold is different for the doctor and the pima indian?"
   ]
  },
  {
   "cell_type": "markdown",
   "id": "170f5e96-8ef3-48cb-a9d0-c739b944e562",
   "metadata": {},
   "source": [
    "Yes, the best threshold is different because the doctor and the Pima Indian have different priorities. The doctor wants to catch as many diabetic patients as possible while minimizing false positives, so a moderate threshold like 0.1 is best. In contrast, the Pima Indian wants to be sure that if they are diagnosed with diabetes, the prediction is highly accurate, which means prioritizing precision with a higher threshold like 0.8. This shows how the right threshold depends on the specific needs and risks of the person using the model."
   ]
  },
  {
   "cell_type": "markdown",
   "id": "5ce6f029",
   "metadata": {},
   "source": [
    "# Problem 4 - TP and FP rate for threshold of 0 and 1\n",
    "\n",
    "1. What is the true positive rate if the theshold is 1? Please justify your answer.\n",
    "2. What is the false postivie rate if the threshold is 1? Please justify your answer."
   ]
  },
  {
   "cell_type": "markdown",
   "id": "441c143f",
   "metadata": {},
   "source": [
    "# your answer here\n",
    "\n",
    "When the threshold is set to 1, the model only predicts diabetes if it is 100% confident, which almost never happens. As a result, it never predicts anyone as diabetic, meaning that all actual diabetic cases are missed. This makes the true positive rate (TPR) 0%, since no diabetic patients are correctly identified. At the same time, the false positive rate (FPR) is also 0% because the model never incorrectly predicts a non-diabetic person as diabetic. While this setting ensures no false positives, it completely fails at detecting diabetes, making it an impractical threshold for real-world use."
   ]
  },
  {
   "cell_type": "markdown",
   "id": "b600fca1",
   "metadata": {},
   "source": [
    "# Problem 5 -  ROC curve and PR curve\n",
    "\n",
    "### Part 1\n",
    "Create a ROC curve for the logistic regression model to predict diabetes using Glucose, BMI and Pregnancies. "
   ]
  },
  {
   "cell_type": "code",
   "execution_count": null,
   "id": "ab36c071",
   "metadata": {
    "scrolled": true
   },
   "outputs": [],
   "source": [
    "import numpy as np\n",
    "import matplotlib.pyplot as plt\n",
    "from sklearn.metrics import roc_curve, auc\n",
    "\n",
    "fpr, tpr, _ = roc_curve(y, y_probs)\n",
    "roc_auc = auc(fpr, tpr)\n",
    "\n",
    "plt.figure(figsize=(8, 6))\n",
    "plt.plot(fpr, tpr, color=\"blue\", lw=2, label=f\"ROC curve (AUC = {roc_auc:.2f})\")\n",
    "plt.plot([0, 1], [0, 1], color=\"gray\", linestyle=\"--\")  # Diagonal reference line\n",
    "plt.xlabel(\"False Positive Rate\")\n",
    "plt.ylabel(\"True Positive Rate\")\n",
    "plt.title(\"Receiver Operating Characteristic (ROC) Curve\")\n",
    "plt.legend(loc=\"lower right\")\n",
    "plt.show()"
   ]
  },
  {
   "cell_type": "markdown",
   "id": "f6d3854a",
   "metadata": {},
   "source": [
    "### Part 2: \n",
    "What is the area under the curve? How does this compare with a random classifier?"
   ]
  },
  {
   "cell_type": "code",
   "execution_count": 56,
   "id": "c7f7c2c7",
   "metadata": {},
   "outputs": [
    {
     "name": "stdout",
     "output_type": "stream",
     "text": [
      "AUC: 0.82\n",
      "AUC for random classifier: 0.50\n",
      "Model performs better than random guessing.\n"
     ]
    }
   ],
   "source": [
    "from sklearn.metrics import roc_auc_score\n",
    "\n",
    "roc_auc = roc_auc_score(y, y_probs)\n",
    "\n",
    "print(f\"AUC: {roc_auc:.2f}\")\n",
    "print(\"AUC for random classifier: 0.50\")\n",
    "print(\"Model performs better than random guessing.\")"
   ]
  },
  {
   "cell_type": "markdown",
   "id": "e91fb8ca",
   "metadata": {},
   "source": [
    "### Part 3: \n",
    "From the curve, if you want to maximize the true positive rate, what is the minumum false positive rate that you have to settle for? (Approximate value is is ok)"
   ]
  },
  {
   "cell_type": "markdown",
   "id": "aa242281-5185-4564-be82-1a868b09f4fc",
   "metadata": {},
   "source": [
    "From the ROC curve, if you want to maximize the TPR to nearly 1, the minimum FPR you have to settle for is approximately 0.4. This means that in order to correctly identify almost all diabetic cases, about 40% of non-diabetic cases will be misclassified as diabetic."
   ]
  },
  {
   "cell_type": "markdown",
   "id": "a959cff5",
   "metadata": {},
   "source": [
    "### Part 4:\n",
    "Create a precision-recall curve for the same model. The same code is given forn you"
   ]
  },
  {
   "cell_type": "code",
   "execution_count": 58,
   "id": "c0e1d1cc",
   "metadata": {},
   "outputs": [
    {
     "data": {
      "image/png": "[encoded data removed]",
      "text/plain": [
       "<Figure size 800x600 with 1 Axes>"
      ]
     },
     "metadata": {},
     "output_type": "display_data"
    }
   ],
   "source": [
    "from sklearn.metrics import precision_recall_curve, PrecisionRecallDisplay\n",
    "\n",
    "precision, recall, _ = precision_recall_curve(y, y_probs)\n",
    "\n",
    "plt.figure(figsize=(8, 6))\n",
    "plt.plot(recall, precision, color=\"blue\", lw=2, label=\"Precision-Recall Curve\")\n",
    "plt.xlabel(\"Recall\")\n",
    "plt.ylabel(\"Precision\")\n",
    "plt.title(\"Precision-Recall Curve\")\n",
    "plt.legend(loc=\"lower left\")\n",
    "plt.show()"
   ]
  },
  {
   "cell_type": "markdown",
   "id": "42aa0cb1",
   "metadata": {},
   "source": [
    "###  Part 5: \n",
    "If you want a precision of 80 percent, what is the best recall you can get?\n",
    " On the other hand, if you want a reall of 80 percent, what is the best precision you can get?\n",
    "Approximate value is ok!"
   ]
  },
  {
   "cell_type": "markdown",
   "id": "c7fe6288-5fd7-47ca-a677-83e3c4c283fc",
   "metadata": {},
   "source": [
    "The best recall you can achieve is around 44%, meaning that while most positive predictions will be correct, the model will miss many actual diabetic cases. On the other hand, if you prioritize a recall of 80%, the highest precision you can get is about 57%, meaning the model will correctly identify most diabetic cases but also include more false positives. This trade-off highlights the challenge in balancing precision and recall, where increasing one often leads to a decrease in the other."
   ]
  },
  {
   "cell_type": "code",
   "execution_count": null,
   "id": "e0334f07-c3b3-4802-952e-7e29e293de55",
   "metadata": {},
   "outputs": [],
   "source": []
  }
 ],
 "metadata": {
  "kernelspec": {
   "display_name": "Python [conda env:base] *",
   "language": "python",
   "name": "conda-base-py"
  },
  "language_info": {
   "codemirror_mode": {
    "name": "ipython",
    "version": 3
   },
   "file_extension": ".py",
   "mimetype": "text/x-python",
   "name": "python",
   "nbconvert_exporter": "python",
   "pygments_lexer": "ipython3",
   "version": "3.12.3"
  }
 },
 "nbformat": 4,
 "nbformat_minor": 5
}
