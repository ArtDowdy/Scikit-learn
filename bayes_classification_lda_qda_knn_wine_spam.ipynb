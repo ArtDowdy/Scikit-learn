{
 "cells": [
  {
   "cell_type": "markdown",
   "id": "160c7406",
   "metadata": {},
   "source": [
    "# Problem 1: Bayes theorem.\n",
    "\n",
    "Not everyone who has high blood sugar has diabetes. Suppose the prior probability of having diabetes in the general population is 0.1. The probability of having high blood sugar given that someone has diabetes is 0.8. The probability of having high blood sugar is 0.4. What is the probability that some has diabetes, given that they have high blood sugar?\n"
   ]
  },
  {
   "cell_type": "code",
   "execution_count": 3,
   "id": "b15a3769",
   "metadata": {},
   "outputs": [
    {
     "data": {
      "text/plain": [
       "0.20000000000000004"
      ]
     },
     "execution_count": 3,
     "metadata": {},
     "output_type": "execute_result"
    }
   ],
   "source": [
    "#your answer here\n",
    "\n",
    "# Given probabilities\n",
    "\n",
    "P_D = 0.1         # P(D)\n",
    "P_H_given_D = 0.8 # P(H | D)\n",
    "P_H = 0.4         # P(H)\n",
    "\n",
    "P_D_given_H = (P_H_given_D * P_D) / P_H\n",
    "\n",
    "P_D_given_H\n"
   ]
  },
  {
   "cell_type": "markdown",
   "id": "558705ea",
   "metadata": {},
   "source": [
    "# Problem 2: \n",
    "\n",
    "Which of the following statements are true about the LDA classifier, choose all that apply.\n",
    "\n",
    "1. The LDA classifier has linear decision boundaries\n",
    "2. The LDA classifier assumes that the features have a joint normal distribution\n",
    "3. The LDA classifier assumes that the features are independent\n",
    "4. The LDA classifier assumes that the covariance matrix of the features for each class is the same.\n"
   ]
  },
  {
   "cell_type": "markdown",
   "id": "ea072e6c-a8ae-4623-aa6f-40e0ef904edd",
   "metadata": {},
   "source": [
    "# your answer here\n",
    "1. True – LDA assumes equal covariance matrices, resulting in linear boundaries.\n",
    "2. True – LDA models features as a multivariate normal distribution within each class.\n",
    "3. False – LDA allows correlated features; independence is not assumed.\n",
    "4. True – LDA assumes all classes share the same covariance matrix."
   ]
  },
  {
   "cell_type": "markdown",
   "id": "795f4458",
   "metadata": {},
   "source": [
    "# Problem 3:\n",
    "Which of the following statmetns are true about QDA classifier, choose all that apply\n",
    "\n",
    "1. QDA is based on the bayes decision rule\n",
    "2. QDA assumes that the covariance matrix of the features is same for each class\n",
    "3. QDA assumes that the features have a joint normal distribution"
   ]
  },
  {
   "cell_type": "markdown",
   "id": "22f8bccd-ba29-4364-be0d-7916c4112d91",
   "metadata": {},
   "source": [
    "# your answer here\n",
    "1. True – QDA uses Bayes decision theory to assign class labels based on posterior probabilities.\n",
    "2. False – QDA allows each class to have its own covariance matrix.\n",
    "3. True – QDA models each class with a multivariate normal distribution. "
   ]
  },
  {
   "cell_type": "markdown",
   "id": "95fa2b59",
   "metadata": {},
   "source": [
    "# Problem 4: A simple Spam classifier using Naive Bayes\n",
    "\n",
    "The chances of seeing the phrase `\"Avoid bankruptcy\"` and `\"Billion Dollars\"` in a spam email are $0.8$ and $0.9$ respectively.\n",
    "\n",
    "The chances of a random email being spam is $0.1$\n",
    "\n",
    "The chances of joinylt seeing the phrases `\"Avoid bankrupty\"` and `\"Billion Dollars\"` in a random email is $0.09$\n",
    "\n",
    "Given that an email contains `'Avoid bankrupty'` and `\"Billion Dollars\"`, what is the probability that it is a spam email?\n",
    "\n",
    "**Hint**: \n",
    "\n",
    "Apply the bayes theorem on `P(Spam | \"avoid bankrupty\", \"Billion Dollars\")`. \n",
    "\n",
    "Next assume the naive bayes model, i.e. if we have two features $A$ and $B$, then P(A,B | spam) = P(A|spam)*P(B|spam)\n",
    "    "
   ]
  },
  {
   "cell_type": "code",
   "execution_count": 5,
   "id": "6f0bd3a3",
   "metadata": {},
   "outputs": [
    {
     "data": {
      "text/plain": [
       "0.8000000000000002"
      ]
     },
     "execution_count": 5,
     "metadata": {},
     "output_type": "execute_result"
    }
   ],
   "source": [
    "\n",
    "P_A_given_spam = 0.8          # P(\"Avoid bankruptcy\" | Spam)\n",
    "P_B_given_spam = 0.9          # P(\"Billion Dollars\" | Spam)\n",
    "P_spam = 0.1                  # P(Spam)\n",
    "P_A_and_B = 0.09              # P(\"Avoid bankruptcy\" and \"Billion Dollars\")\n",
    "\n",
    "# Naive Bayes assumption: P(A, B | Spam) = P(A|Spam) * P(B|Spam)\n",
    "P_A_and_B_given_spam = P_A_given_spam * P_B_given_spam\n",
    "\n",
    "# Apply Bayes' Theorem\n",
    "P_spam_given_A_and_B = (P_A_and_B_given_spam * P_spam) / P_A_and_B\n",
    "\n",
    "P_spam_given_A_and_B\n"
   ]
  },
  {
   "cell_type": "markdown",
   "id": "739ca21e",
   "metadata": {},
   "source": [
    "# Problem 5:\n",
    "Which of the following statements are true in the context of generative and predictive models for classification?\n",
    "\n",
    "A. In a generative model, we model the probability distribution of features given the outcome, i.e. $P(x_1, \\ldots, x_p | y)$ and then use Bayes theorem to compute $P(y | x_1, \\ldots, x_p)$.\n",
    "\n",
    "B: In a predictive model, we \\emph{directly} model the probability distribution of the outcome given the features, e.g. $P(y| x_1, \\ldots x_p)$.\n",
    "\n",
    "C: In a generative model, we need to make assumptions about the features, e.g. either they are independent, or they jointly follow a normal distribution.\n",
    "\n",
    "D: All of the above"
   ]
  },
  {
   "cell_type": "code",
   "execution_count": null,
   "id": "bac96d5f",
   "metadata": {},
   "outputs": [],
   "source": [
    "D!"
   ]
  },
  {
   "cell_type": "markdown",
   "id": "f5295050",
   "metadata": {},
   "source": [
    "# Problem 6:\n",
    "In this problem we will build a bunch of classifier for the wine dataset.\n",
    "\n",
    "The wine dataset is actually a classification problem, where the outcome is a wine quality that can be a number from 1 to 8. In previous homeworks, we treated this outcome as a continuous variable and used regression for predicting the quality. \n",
    "\n",
    "Here we will treat the outcome as a categorical variable and use multiclass classification for prediction.\n",
    "\n",
    "In the lab we saw how to use a LDA and QDA to estimate a multi class classification model. But we cannot use metrics like true positive rate, false positive rate when there are more than 2 classes, as these metrics make sense only when there is a positive class and a negative class. \n",
    "\n",
    "In multi class classification, we typically define one class as the positive class and all the other classes become negative class. In the cells below, we will create three different rating classes for wine, and run binary classification using this idea of treating one class as positive and the rest as negative.\n"
   ]
  },
  {
   "cell_type": "markdown",
   "id": "cbe9e751",
   "metadata": {},
   "source": [
    "First lets import the dataset"
   ]
  },
  {
   "cell_type": "code",
   "execution_count": 60,
   "id": "029eb978",
   "metadata": {},
   "outputs": [],
   "source": [
    "import pandas as pd\n",
    "import numpy as np\n",
    "import matplotlib.pyplot as plt"
   ]
  },
  {
   "cell_type": "code",
   "execution_count": 62,
   "id": "13f84977",
   "metadata": {},
   "outputs": [
    {
     "data": {
      "text/html": [
       "<div>\n",
       "<style scoped>\n",
       "    .dataframe tbody tr th:only-of-type {\n",
       "        vertical-align: middle;\n",
       "    }\n",
       "\n",
       "    .dataframe tbody tr th {\n",
       "        vertical-align: top;\n",
       "    }\n",
       "\n",
       "    .dataframe thead th {\n",
       "        text-align: right;\n",
       "    }\n",
       "</style>\n",
       "<table border=\"1\" class=\"dataframe\">\n",
       "  <thead>\n",
       "    <tr style=\"text-align: right;\">\n",
       "      <th></th>\n",
       "      <th>fixed acidity</th>\n",
       "      <th>volatile acidity</th>\n",
       "      <th>citric acid</th>\n",
       "      <th>residual sugar</th>\n",
       "      <th>chlorides</th>\n",
       "      <th>free sulfur dioxide</th>\n",
       "      <th>total sulfur dioxide</th>\n",
       "      <th>density</th>\n",
       "      <th>pH</th>\n",
       "      <th>sulphates</th>\n",
       "      <th>alcohol</th>\n",
       "      <th>quality</th>\n",
       "    </tr>\n",
       "  </thead>\n",
       "  <tbody>\n",
       "    <tr>\n",
       "      <th>0</th>\n",
       "      <td>7.4</td>\n",
       "      <td>0.70</td>\n",
       "      <td>0.00</td>\n",
       "      <td>1.9</td>\n",
       "      <td>0.076</td>\n",
       "      <td>11.0</td>\n",
       "      <td>34.0</td>\n",
       "      <td>0.9978</td>\n",
       "      <td>3.51</td>\n",
       "      <td>0.56</td>\n",
       "      <td>9.4</td>\n",
       "      <td>5</td>\n",
       "    </tr>\n",
       "    <tr>\n",
       "      <th>1</th>\n",
       "      <td>7.8</td>\n",
       "      <td>0.88</td>\n",
       "      <td>0.00</td>\n",
       "      <td>2.6</td>\n",
       "      <td>0.098</td>\n",
       "      <td>25.0</td>\n",
       "      <td>67.0</td>\n",
       "      <td>0.9968</td>\n",
       "      <td>3.20</td>\n",
       "      <td>0.68</td>\n",
       "      <td>9.8</td>\n",
       "      <td>5</td>\n",
       "    </tr>\n",
       "    <tr>\n",
       "      <th>2</th>\n",
       "      <td>7.8</td>\n",
       "      <td>0.76</td>\n",
       "      <td>0.04</td>\n",
       "      <td>2.3</td>\n",
       "      <td>0.092</td>\n",
       "      <td>15.0</td>\n",
       "      <td>54.0</td>\n",
       "      <td>0.9970</td>\n",
       "      <td>3.26</td>\n",
       "      <td>0.65</td>\n",
       "      <td>9.8</td>\n",
       "      <td>5</td>\n",
       "    </tr>\n",
       "    <tr>\n",
       "      <th>3</th>\n",
       "      <td>11.2</td>\n",
       "      <td>0.28</td>\n",
       "      <td>0.56</td>\n",
       "      <td>1.9</td>\n",
       "      <td>0.075</td>\n",
       "      <td>17.0</td>\n",
       "      <td>60.0</td>\n",
       "      <td>0.9980</td>\n",
       "      <td>3.16</td>\n",
       "      <td>0.58</td>\n",
       "      <td>9.8</td>\n",
       "      <td>6</td>\n",
       "    </tr>\n",
       "    <tr>\n",
       "      <th>4</th>\n",
       "      <td>7.4</td>\n",
       "      <td>0.70</td>\n",
       "      <td>0.00</td>\n",
       "      <td>1.9</td>\n",
       "      <td>0.076</td>\n",
       "      <td>11.0</td>\n",
       "      <td>34.0</td>\n",
       "      <td>0.9978</td>\n",
       "      <td>3.51</td>\n",
       "      <td>0.56</td>\n",
       "      <td>9.4</td>\n",
       "      <td>5</td>\n",
       "    </tr>\n",
       "  </tbody>\n",
       "</table>\n",
       "</div>"
      ],
      "text/plain": [
       "   fixed acidity  volatile acidity  citric acid  residual sugar  chlorides  \\\n",
       "0            7.4              0.70         0.00             1.9      0.076   \n",
       "1            7.8              0.88         0.00             2.6      0.098   \n",
       "2            7.8              0.76         0.04             2.3      0.092   \n",
       "3           11.2              0.28         0.56             1.9      0.075   \n",
       "4            7.4              0.70         0.00             1.9      0.076   \n",
       "\n",
       "   free sulfur dioxide  total sulfur dioxide  density    pH  sulphates  \\\n",
       "0                 11.0                  34.0   0.9978  3.51       0.56   \n",
       "1                 25.0                  67.0   0.9968  3.20       0.68   \n",
       "2                 15.0                  54.0   0.9970  3.26       0.65   \n",
       "3                 17.0                  60.0   0.9980  3.16       0.58   \n",
       "4                 11.0                  34.0   0.9978  3.51       0.56   \n",
       "\n",
       "   alcohol  quality  \n",
       "0      9.4        5  \n",
       "1      9.8        5  \n",
       "2      9.8        5  \n",
       "3      9.8        6  \n",
       "4      9.4        5  "
      ]
     },
     "execution_count": 62,
     "metadata": {},
     "output_type": "execute_result"
    }
   ],
   "source": [
    "wine = pd.read_csv('winequality-red.csv')\n",
    "wine.head()"
   ]
  },
  {
   "cell_type": "code",
   "execution_count": null,
   "id": "4374c04c",
   "metadata": {},
   "outputs": [],
   "source": [
    "# Now, lets count the proportion of samples in category of the outcome variable \"quality\""
   ]
  },
  {
   "cell_type": "code",
   "execution_count": 64,
   "id": "1235e1ff",
   "metadata": {},
   "outputs": [
    {
     "data": {
      "text/plain": [
       "quality\n",
       "3    0.006254\n",
       "4    0.033146\n",
       "5    0.425891\n",
       "6    0.398999\n",
       "7    0.124453\n",
       "8    0.011257\n",
       "Name: proportion, dtype: float64"
      ]
     },
     "execution_count": 64,
     "metadata": {},
     "output_type": "execute_result"
    }
   ],
   "source": [
    "wine.quality.value_counts(normalize=True).sort_index()"
   ]
  },
  {
   "cell_type": "code",
   "execution_count": null,
   "id": "696318f9",
   "metadata": {},
   "outputs": [],
   "source": [
    "# If we treat each quality as a separate class, we will have 7 different classes. \n",
    "# Instead, we will group the classes into a new variable as follows. \n",
    "# We will create a new rating variable by combining the quality levels into groups.\n",
    "# Let us group the ratings 3,4 as \"C\", 5,6 as \"B\" and 7,8 as \"A\""
   ]
  },
  {
   "cell_type": "code",
   "execution_count": 66,
   "id": "76205cf5",
   "metadata": {},
   "outputs": [],
   "source": [
    "mapping = {8: 'A', 7:'A', 6:'B', 5:'B', 4:'C', 3:'C'}\n",
    "\n",
    "wine['rating'] = wine.quality.map(mapping)"
   ]
  },
  {
   "cell_type": "code",
   "execution_count": 68,
   "id": "428fedf4",
   "metadata": {},
   "outputs": [
    {
     "data": {
      "text/html": [
       "<div>\n",
       "<style scoped>\n",
       "    .dataframe tbody tr th:only-of-type {\n",
       "        vertical-align: middle;\n",
       "    }\n",
       "\n",
       "    .dataframe tbody tr th {\n",
       "        vertical-align: top;\n",
       "    }\n",
       "\n",
       "    .dataframe thead th {\n",
       "        text-align: right;\n",
       "    }\n",
       "</style>\n",
       "<table border=\"1\" class=\"dataframe\">\n",
       "  <thead>\n",
       "    <tr style=\"text-align: right;\">\n",
       "      <th></th>\n",
       "      <th>fixed acidity</th>\n",
       "      <th>volatile acidity</th>\n",
       "      <th>citric acid</th>\n",
       "      <th>residual sugar</th>\n",
       "      <th>chlorides</th>\n",
       "      <th>free sulfur dioxide</th>\n",
       "      <th>total sulfur dioxide</th>\n",
       "      <th>density</th>\n",
       "      <th>pH</th>\n",
       "      <th>sulphates</th>\n",
       "      <th>alcohol</th>\n",
       "      <th>quality</th>\n",
       "      <th>rating</th>\n",
       "    </tr>\n",
       "  </thead>\n",
       "  <tbody>\n",
       "    <tr>\n",
       "      <th>0</th>\n",
       "      <td>7.4</td>\n",
       "      <td>0.70</td>\n",
       "      <td>0.00</td>\n",
       "      <td>1.9</td>\n",
       "      <td>0.076</td>\n",
       "      <td>11.0</td>\n",
       "      <td>34.0</td>\n",
       "      <td>0.9978</td>\n",
       "      <td>3.51</td>\n",
       "      <td>0.56</td>\n",
       "      <td>9.4</td>\n",
       "      <td>5</td>\n",
       "      <td>B</td>\n",
       "    </tr>\n",
       "    <tr>\n",
       "      <th>1</th>\n",
       "      <td>7.8</td>\n",
       "      <td>0.88</td>\n",
       "      <td>0.00</td>\n",
       "      <td>2.6</td>\n",
       "      <td>0.098</td>\n",
       "      <td>25.0</td>\n",
       "      <td>67.0</td>\n",
       "      <td>0.9968</td>\n",
       "      <td>3.20</td>\n",
       "      <td>0.68</td>\n",
       "      <td>9.8</td>\n",
       "      <td>5</td>\n",
       "      <td>B</td>\n",
       "    </tr>\n",
       "    <tr>\n",
       "      <th>2</th>\n",
       "      <td>7.8</td>\n",
       "      <td>0.76</td>\n",
       "      <td>0.04</td>\n",
       "      <td>2.3</td>\n",
       "      <td>0.092</td>\n",
       "      <td>15.0</td>\n",
       "      <td>54.0</td>\n",
       "      <td>0.9970</td>\n",
       "      <td>3.26</td>\n",
       "      <td>0.65</td>\n",
       "      <td>9.8</td>\n",
       "      <td>5</td>\n",
       "      <td>B</td>\n",
       "    </tr>\n",
       "    <tr>\n",
       "      <th>3</th>\n",
       "      <td>11.2</td>\n",
       "      <td>0.28</td>\n",
       "      <td>0.56</td>\n",
       "      <td>1.9</td>\n",
       "      <td>0.075</td>\n",
       "      <td>17.0</td>\n",
       "      <td>60.0</td>\n",
       "      <td>0.9980</td>\n",
       "      <td>3.16</td>\n",
       "      <td>0.58</td>\n",
       "      <td>9.8</td>\n",
       "      <td>6</td>\n",
       "      <td>B</td>\n",
       "    </tr>\n",
       "    <tr>\n",
       "      <th>4</th>\n",
       "      <td>7.4</td>\n",
       "      <td>0.70</td>\n",
       "      <td>0.00</td>\n",
       "      <td>1.9</td>\n",
       "      <td>0.076</td>\n",
       "      <td>11.0</td>\n",
       "      <td>34.0</td>\n",
       "      <td>0.9978</td>\n",
       "      <td>3.51</td>\n",
       "      <td>0.56</td>\n",
       "      <td>9.4</td>\n",
       "      <td>5</td>\n",
       "      <td>B</td>\n",
       "    </tr>\n",
       "  </tbody>\n",
       "</table>\n",
       "</div>"
      ],
      "text/plain": [
       "   fixed acidity  volatile acidity  citric acid  residual sugar  chlorides  \\\n",
       "0            7.4              0.70         0.00             1.9      0.076   \n",
       "1            7.8              0.88         0.00             2.6      0.098   \n",
       "2            7.8              0.76         0.04             2.3      0.092   \n",
       "3           11.2              0.28         0.56             1.9      0.075   \n",
       "4            7.4              0.70         0.00             1.9      0.076   \n",
       "\n",
       "   free sulfur dioxide  total sulfur dioxide  density    pH  sulphates  \\\n",
       "0                 11.0                  34.0   0.9978  3.51       0.56   \n",
       "1                 25.0                  67.0   0.9968  3.20       0.68   \n",
       "2                 15.0                  54.0   0.9970  3.26       0.65   \n",
       "3                 17.0                  60.0   0.9980  3.16       0.58   \n",
       "4                 11.0                  34.0   0.9978  3.51       0.56   \n",
       "\n",
       "   alcohol  quality rating  \n",
       "0      9.4        5      B  \n",
       "1      9.8        5      B  \n",
       "2      9.8        5      B  \n",
       "3      9.8        6      B  \n",
       "4      9.4        5      B  "
      ]
     },
     "execution_count": 68,
     "metadata": {},
     "output_type": "execute_result"
    }
   ],
   "source": [
    "# lets check if this variable was added to the dataframe\n",
    "wine.head()"
   ]
  },
  {
   "cell_type": "code",
   "execution_count": 72,
   "id": "d235c51f",
   "metadata": {},
   "outputs": [
    {
     "data": {
      "text/plain": [
       "rating\n",
       "A    0.135710\n",
       "B    0.824891\n",
       "C    0.039400\n",
       "Name: proportion, dtype: float64"
      ]
     },
     "execution_count": 72,
     "metadata": {},
     "output_type": "execute_result"
    }
   ],
   "source": [
    "# find the proportion of each rating A,B,C\n",
    "wine.rating.value_counts(normalize = True).sort_index()"
   ]
  },
  {
   "cell_type": "markdown",
   "id": "115d5b8e",
   "metadata": {},
   "source": [
    "Suppose we want to build a model to differentiate wines in class $A$ with classes $B$ and $C$. \n",
    "\n",
    "We will treat $A$ as the positive class, and $B$ and $C$ together will be the negative class"
   ]
  },
  {
   "cell_type": "code",
   "execution_count": null,
   "id": "1657c0cf",
   "metadata": {
    "scrolled": true
   },
   "outputs": [],
   "source": [
    "#Create a dummy variable for the categories A, B and C\n",
    "#Hint: use the get_dummies function  \n",
    "#Refer to the Week 4 Lab on logistic regression on how to create and concatenate dummy variables."
   ]
  },
  {
   "cell_type": "code",
   "execution_count": 74,
   "id": "ad5bb47b",
   "metadata": {},
   "outputs": [],
   "source": [
    "dummies = pd.get_dummies(wine['rating'], prefix='rating')\n",
    "wine = pd.concat([wine, dummies], axis=1)"
   ]
  },
  {
   "cell_type": "code",
   "execution_count": null,
   "id": "8e856888",
   "metadata": {},
   "outputs": [],
   "source": [
    "# Concatenate the dummies dataset with the wine dataset to create a new dataframe\n",
    "# Hint: Refer to the Week 4 Lab on logistic regression on how to create and concatenate dummy variables."
   ]
  },
  {
   "cell_type": "code",
   "execution_count": 76,
   "id": "7473ba41",
   "metadata": {
    "scrolled": true
   },
   "outputs": [],
   "source": [
    "wine = pd.concat([wine, dummies], axis=1)"
   ]
  },
  {
   "cell_type": "code",
   "execution_count": null,
   "id": "48444787",
   "metadata": {},
   "outputs": [],
   "source": [
    "# Find the proportion of wines with rating \"A\" by using the dummy variable for rating A."
   ]
  },
  {
   "cell_type": "code",
   "execution_count": 78,
   "id": "1271f064",
   "metadata": {
    "scrolled": true
   },
   "outputs": [
    {
     "data": {
      "text/plain": [
       "rating_A    0.13571\n",
       "rating_A    0.13571\n",
       "dtype: float64"
      ]
     },
     "execution_count": 78,
     "metadata": {},
     "output_type": "execute_result"
    }
   ],
   "source": [
    "wine['rating_A'].mean()"
   ]
  },
  {
   "cell_type": "code",
   "execution_count": null,
   "id": "69ae6774",
   "metadata": {},
   "outputs": [],
   "source": [
    "#Now our goal is to classify wines in class A vs wines that are not in class A\n",
    "\n",
    "# So we use the dummy variable for $A$ as the outcome variable and fit a KNN classifier for $k=10$\n",
    "\n",
    "# You can use the features ''volatile acidity','alcohol','sulphates'' for prediction"
   ]
  },
  {
   "cell_type": "code",
   "execution_count": null,
   "id": "d1edfe49",
   "metadata": {},
   "outputs": [],
   "source": [
    "#Hint:  Fitting a knn classifier is exactly the same as fitting the knn regression, \n",
    "#you just use the KNeighborsClassifier function instead of the KNeighborsRegression function."
   ]
  },
  {
   "cell_type": "code",
   "execution_count": null,
   "id": "756d3a93",
   "metadata": {},
   "outputs": [],
   "source": [
    "#Step 1: Create the X and y arrays"
   ]
  },
  {
   "cell_type": "code",
   "execution_count": 190,
   "id": "2ece4f9c",
   "metadata": {
    "scrolled": true
   },
   "outputs": [
    {
     "name": "stdout",
     "output_type": "stream",
     "text": [
      "Index(['fixed acidity', 'volatile acidity', 'citric acid', 'residual sugar',\n",
      "       'chlorides', 'free sulfur dioxide', 'total sulfur dioxide', 'density',\n",
      "       'pH', 'sulphates', 'alcohol', 'quality', 'rating', 'rating_A'],\n",
      "      dtype='object')\n"
     ]
    },
    {
     "data": {
      "text/plain": [
       "217"
      ]
     },
     "execution_count": 190,
     "metadata": {},
     "output_type": "execute_result"
    }
   ],
   "source": [
    "dummies = pd.get_dummies(wine['rating'], prefix='rating')\n",
    "wine = pd.concat([wine, dummies], axis=1)\n",
    "y = wine['rating_A']\n",
    "wine.drop(columns=['rating_B', 'rating_C'], inplace=True)\n",
    "wine = wine.loc[:, ~wine.columns.duplicated()]\n",
    "wine['rating_A'] = wine['rating_A'].astype(int)\n",
    "print(wine.columns)\n",
    "wine['rating_A'].head()\n",
    "wine['rating_A'].sum()"
   ]
  },
  {
   "cell_type": "code",
   "execution_count": 192,
   "id": "2c523386-5206-4cc5-8dc7-33fb0fb0343d",
   "metadata": {},
   "outputs": [],
   "source": [
    "X = wine[['volatile acidity', 'alcohol', 'sulphates']]\n",
    "y = wine['rating_A']"
   ]
  },
  {
   "cell_type": "code",
   "execution_count": 136,
   "id": "b379f04a",
   "metadata": {},
   "outputs": [],
   "source": [
    "# Step 2: Import the needed libraries (This has been done for you)"
   ]
  },
  {
   "cell_type": "code",
   "execution_count": 194,
   "id": "b7184f02",
   "metadata": {},
   "outputs": [],
   "source": [
    "from sklearn.neighbors import KNeighborsClassifier\n",
    "from sklearn.model_selection import train_test_split\n",
    "from sklearn.metrics import classification_report, confusion_matrix"
   ]
  },
  {
   "cell_type": "code",
   "execution_count": 140,
   "id": "4e842e91",
   "metadata": {},
   "outputs": [],
   "source": [
    "# Step 3: Create the kfold object with 5 splits"
   ]
  },
  {
   "cell_type": "code",
   "execution_count": 196,
   "id": "55e44939",
   "metadata": {},
   "outputs": [],
   "source": [
    "kf = KFold(n_splits=5, shuffle=True, random_state=42)"
   ]
  },
  {
   "cell_type": "code",
   "execution_count": 144,
   "id": "d56385f3",
   "metadata": {},
   "outputs": [],
   "source": [
    "# Step 4: Use cross_val_predict to get the predictions of KK classifier with 10 neighbors. \n",
    "# Remember to use the KNeighborsClassifier function to define a KNN classifier"
   ]
  },
  {
   "cell_type": "code",
   "execution_count": 198,
   "id": "9482afee-a4e5-44aa-9973-0d4548084e20",
   "metadata": {},
   "outputs": [],
   "source": [
    "knn = KNeighborsClassifier(n_neighbors=10)\n",
    "y_pred = cross_val_predict(knn, X, y, cv=kf)"
   ]
  },
  {
   "cell_type": "code",
   "execution_count": 148,
   "id": "c24829bb",
   "metadata": {},
   "outputs": [],
   "source": [
    "# Step 5: Get and plot the confusion matrix"
   ]
  },
  {
   "cell_type": "code",
   "execution_count": 200,
   "id": "7bde757e-945f-47ea-a18e-359836ae20d1",
   "metadata": {},
   "outputs": [
    {
     "data": {
      "image/png": "[encoded data removed]",
      "text/plain": [
       "<Figure size 640x480 with 2 Axes>"
      ]
     },
     "metadata": {},
     "output_type": "display_data"
    }
   ],
   "source": [
    "cm = confusion_matrix(y, y_pred)\n",
    "disp = ConfusionMatrixDisplay(confusion_matrix=cm, display_labels=['Not A', 'A'])\n",
    "disp.plot(cmap='Blues')\n",
    "plt.title(\"Confusion Matrix (KNN with k=10)\")\n",
    "plt.grid(False)\n",
    "plt.show()"
   ]
  },
  {
   "cell_type": "code",
   "execution_count": 202,
   "id": "994dbe6c",
   "metadata": {},
   "outputs": [
    {
     "name": "stdout",
     "output_type": "stream",
     "text": [
      "              precision    recall  f1-score   support\n",
      "\n",
      "       Not A       0.89      0.97      0.93      1382\n",
      "           A       0.55      0.21      0.31       217\n",
      "\n",
      "    accuracy                           0.87      1599\n",
      "   macro avg       0.72      0.59      0.62      1599\n",
      "weighted avg       0.84      0.87      0.84      1599\n",
      "\n"
     ]
    }
   ],
   "source": [
    "# How good is the classifier in identifying the A grade wines? \n",
    "#(Hint: What is the recall?)\n",
    "# You may use the function below:\n",
    "\n",
    "from sklearn.metrics import classification_report\n",
    "\n",
    "print(classification_report(y, y_pred, target_names=['Not A', 'A']))"
   ]
  },
  {
   "cell_type": "code",
   "execution_count": 206,
   "id": "bc4c6559",
   "metadata": {},
   "outputs": [],
   "source": [
    "def fpr_tpr_pr(cm):\n",
    "    TN = cm[0][0]\n",
    "    FN = cm[1][0]\n",
    "    TP = cm[1][1]\n",
    "    FP = cm[0][1]\n",
    "    FPR = FP/(FP+TN)\n",
    "    TPR = TP/(TP+FN)\n",
    "    precision = TP/(TP + FP)\n",
    "    print(\"The false positive rate is\", round(FPR,2))\n",
    "    print(\"The true positive rate is\", round(TPR,2))\n",
    "    print(\"The precision is\", round(precision,2))"
   ]
  },
  {
   "cell_type": "code",
   "execution_count": null,
   "id": "0ad29c78",
   "metadata": {},
   "outputs": [],
   "source": [
    "# Now using the same features, build a model for predicting the wines with rating \"B\".\n",
    "# How good is this classifier in identifying 'B' grade wines?"
   ]
  },
  {
   "cell_type": "code",
   "execution_count": 208,
   "id": "4686a218",
   "metadata": {},
   "outputs": [
    {
     "data": {
      "image/png": "[encoded data removed]",
      "text/plain": [
       "<Figure size 640x480 with 2 Axes>"
      ]
     },
     "metadata": {},
     "output_type": "display_data"
    },
    {
     "name": "stdout",
     "output_type": "stream",
     "text": [
      "              precision    recall  f1-score   support\n",
      "\n",
      "       Not B       0.50      0.31      0.39       280\n",
      "           B       0.87      0.93      0.90      1319\n",
      "\n",
      "    accuracy                           0.83      1599\n",
      "   macro avg       0.68      0.62      0.64      1599\n",
      "weighted avg       0.80      0.83      0.81      1599\n",
      "\n"
     ]
    }
   ],
   "source": [
    "    from sklearn.model_selection import KFold, cross_val_predict\n",
    "from sklearn.neighbors import KNeighborsClassifier\n",
    "from sklearn.metrics import classification_report, confusion_matrix, ConfusionMatrixDisplay\n",
    "import matplotlib.pyplot as plt\n",
    "\n",
    "wine['rating_B'] = (wine['rating'] == 'B').astype(int)\n",
    "X = wine[['volatile acidity', 'alcohol', 'sulphates']]\n",
    "y = wine['rating_B']\n",
    "\n",
    "kf = KFold(n_splits=5, shuffle=True, random_state=42)\n",
    "knn = KNeighborsClassifier(n_neighbors=10)\n",
    "y_pred = cross_val_predict(knn, X, y, cv=kf)\n",
    "\n",
    "cm = confusion_matrix(y, y_pred)\n",
    "disp = ConfusionMatrixDisplay(confusion_matrix=cm, display_labels=['Not B', 'B'])\n",
    "disp.plot(cmap='Blues')\n",
    "plt.title(\"Confusion Matrix for Class B (KNN, k=10)\")\n",
    "plt.grid(False)\n",
    "plt.show()\n",
    "\n",
    "print(classification_report(y, y_pred, target_names=['Not B', 'B']))"
   ]
  },
  {
   "cell_type": "code",
   "execution_count": null,
   "id": "6b252998",
   "metadata": {},
   "outputs": [],
   "source": [
    "# Now build a LDA and QDA classifier for predicting wines with rating \"A\". \n"
   ]
  },
  {
   "cell_type": "code",
   "execution_count": 212,
   "id": "e0795f94",
   "metadata": {},
   "outputs": [
    {
     "data": {
      "image/png": "[encoded data removed]",
      "text/plain": [
       "<Figure size 640x480 with 2 Axes>"
      ]
     },
     "metadata": {},
     "output_type": "display_data"
    },
    {
     "name": "stdout",
     "output_type": "stream",
     "text": [
      "LDA Classification Report\n",
      "              precision    recall  f1-score   support\n",
      "\n",
      "       Not A       0.90      0.96      0.93      1382\n",
      "           A       0.53      0.33      0.41       217\n",
      "\n",
      "    accuracy                           0.87      1599\n",
      "   macro avg       0.72      0.64      0.67      1599\n",
      "weighted avg       0.85      0.87      0.86      1599\n",
      "\n"
     ]
    },
    {
     "data": {
      "image/png": "[encoded data removed]",
      "text/plain": [
       "<Figure size 640x480 with 2 Axes>"
      ]
     },
     "metadata": {},
     "output_type": "display_data"
    },
    {
     "name": "stdout",
     "output_type": "stream",
     "text": [
      "QDA Classification Report\n",
      "              precision    recall  f1-score   support\n",
      "\n",
      "       Not A       0.90      0.95      0.93      1382\n",
      "           A       0.54      0.34      0.42       217\n",
      "\n",
      "    accuracy                           0.87      1599\n",
      "   macro avg       0.72      0.65      0.67      1599\n",
      "weighted avg       0.85      0.87      0.86      1599\n",
      "\n"
     ]
    }
   ],
   "source": [
    "from sklearn.discriminant_analysis import LinearDiscriminantAnalysis, QuadraticDiscriminantAnalysis\n",
    "from sklearn.model_selection import cross_val_predict, KFold\n",
    "from sklearn.metrics import confusion_matrix, ConfusionMatrixDisplay, classification_report\n",
    "import matplotlib.pyplot as plt\n",
    "\n",
    "wine['rating_A'] = (wine['rating'] == 'A').astype(int)\n",
    "X = wine[['volatile acidity', 'alcohol', 'sulphates']]\n",
    "y = wine['rating_A']\n",
    "kf = KFold(n_splits=5, shuffle=True, random_state=42)\n",
    "\n",
    "lda = LinearDiscriminantAnalysis()\n",
    "y_pred_lda = cross_val_predict(lda, X, y, cv=kf)\n",
    "\n",
    "qda = QuadraticDiscriminantAnalysis()\n",
    "y_pred_qda = cross_val_predict(qda, X, y, cv=kf)\n",
    "\n",
    "cm_lda = confusion_matrix(y, y_pred_lda)\n",
    "disp_lda = ConfusionMatrixDisplay(confusion_matrix=cm_lda, display_labels=['Not A', 'A'])\n",
    "disp_lda.plot(cmap='Blues')\n",
    "plt.title(\"LDA - Confusion Matrix (Class A)\")\n",
    "plt.grid(False)\n",
    "plt.show()\n",
    "\n",
    "print(\"LDA Classification Report\")\n",
    "print(classification_report(y, y_pred_lda, target_names=['Not A', 'A']))\n",
    "\n",
    "cm_qda = confusion_matrix(y, y_pred_qda)\n",
    "disp_qda = ConfusionMatrixDisplay(confusion_matrix=cm_qda, display_labels=['Not A', 'A'])\n",
    "disp_qda.plot(cmap='Blues')\n",
    "plt.title(\"QDA - Confusion Matrix (Class A)\")\n",
    "plt.grid(False)\n",
    "plt.show()\n",
    "\n",
    "print(\"QDA Classification Report\")\n",
    "print(classification_report(y, y_pred_qda, target_names=['Not A', 'A']))"
   ]
  },
  {
   "cell_type": "code",
   "execution_count": null,
   "id": "0aced705",
   "metadata": {},
   "outputs": [],
   "source": [
    "# Compute the precision and recall for the LDA, QDA and KNN classifier for predicting wines with rating \"A\". \n",
    "# Which model would you choose out of the three?"
   ]
  },
  {
   "cell_type": "code",
   "execution_count": 216,
   "id": "b7352985",
   "metadata": {},
   "outputs": [
    {
     "name": "stdout",
     "output_type": "stream",
     "text": [
      "LDA     → Precision: 0.534, Recall: 0.327\n",
      "QDA     → Precision: 0.536, Recall: 0.341\n",
      "KNN     → Precision: 0.548, Recall: 0.212\n"
     ]
    }
   ],
   "source": [
    "from sklearn.metrics import precision_score, recall_score\n",
    "from sklearn.discriminant_analysis import LinearDiscriminantAnalysis, QuadraticDiscriminantAnalysis\n",
    "from sklearn.neighbors import KNeighborsClassifier\n",
    "from sklearn.model_selection import cross_val_predict, KFold\n",
    "\n",
    "wine['rating_A'] = (wine['rating'] == 'A').astype(int)\n",
    "X = wine[['volatile acidity', 'alcohol', 'sulphates']]\n",
    "y = wine['rating_A']\n",
    "kf = KFold(n_splits=5, shuffle=True, random_state=42)\n",
    "\n",
    "lda = LinearDiscriminantAnalysis()\n",
    "qda = QuadraticDiscriminantAnalysis()\n",
    "knn = KNeighborsClassifier(n_neighbors=10)\n",
    "\n",
    "y_pred_lda = cross_val_predict(lda, X, y, cv=kf)\n",
    "y_pred_qda = cross_val_predict(qda, X, y, cv=kf)\n",
    "y_pred_knn = cross_val_predict(knn, X, y, cv=kf)\n",
    "\n",
    "prec_lda = precision_score(y, y_pred_lda)\n",
    "recall_lda = recall_score(y, y_pred_lda)\n",
    "\n",
    "prec_qda = precision_score(y, y_pred_qda)\n",
    "recall_qda = recall_score(y, y_pred_qda)\n",
    "\n",
    "prec_knn = precision_score(y, y_pred_knn)\n",
    "recall_knn = recall_score(y, y_pred_knn)\n",
    "\n",
    "print(f\"LDA     → Precision: {prec_lda:.3f}, Recall: {recall_lda:.3f}\")\n",
    "print(f\"QDA     → Precision: {prec_qda:.3f}, Recall: {recall_qda:.3f}\")\n",
    "print(f\"KNN     → Precision: {prec_knn:.3f}, Recall: {recall_knn:.3f}\")"
   ]
  },
  {
   "cell_type": "code",
   "execution_count": null,
   "id": "b29ceb27-2ddb-47f4-9cbf-3e21eee8b56e",
   "metadata": {},
   "outputs": [],
   "source": []
  }
 ],
 "metadata": {
  "kernelspec": {
   "display_name": "Python [conda env:base] *",
   "language": "python",
   "name": "conda-base-py"
  },
  "language_info": {
   "codemirror_mode": {
    "name": "ipython",
    "version": 3
   },
   "file_extension": ".py",
   "mimetype": "text/x-python",
   "name": "python",
   "nbconvert_exporter": "python",
   "pygments_lexer": "ipython3",
   "version": "3.12.3"
  }
 },
 "nbformat": 4,
 "nbformat_minor": 5
}
